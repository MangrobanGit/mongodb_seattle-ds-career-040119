{
 "cells": [
  {
   "cell_type": "code",
   "execution_count": 2,
   "metadata": {},
   "outputs": [
    {
     "name": "stdout",
     "output_type": "stream",
     "text": [
      "Collecting pymongo\n",
      "\u001b[?25l  Downloading https://files.pythonhosted.org/packages/bd/ee/35337df27629f1936591e90b97ad3a19670259ddfa6fbd6b38a12d68454d/pymongo-3.8.0-cp37-cp37m-macosx_10_9_x86_64.whl (314kB)\n",
      "\u001b[K    100% |████████████████████████████████| 317kB 3.5MB/s ta 0:00:01\n",
      "\u001b[?25hInstalling collected packages: pymongo\n",
      "Successfully installed pymongo-3.8.0\n"
     ]
    }
   ],
   "source": [
    "!pip install pymongo"
   ]
  },
  {
   "cell_type": "code",
   "execution_count": 3,
   "metadata": {},
   "outputs": [],
   "source": [
    "import pymongo\n",
    "mc = pymongo.MongoClient(host='localhost', port=27017)\n",
    "db = mc['yelp']\n",
    "coll = db['business']"
   ]
  },
  {
   "cell_type": "code",
   "execution_count": 23,
   "metadata": {},
   "outputs": [],
   "source": [
    "import json\n",
    "data = []\n",
    "with open('business.json') as f:\n",
    "    for line in f:\n",
    "        row = json.loads(line)\n",
    "        data.append(row)\n",
    "        coll.insert_one(row)\n",
    "        "
   ]
  },
  {
   "cell_type": "code",
   "execution_count": 24,
   "metadata": {},
   "outputs": [
    {
     "data": {
      "text/plain": [
       "192609"
      ]
     },
     "execution_count": 24,
     "metadata": {},
     "output_type": "execute_result"
    }
   ],
   "source": [
    "coll.count_documents({})"
   ]
  },
  {
   "cell_type": "code",
   "execution_count": 37,
   "metadata": {},
   "outputs": [],
   "source": [
    "cur = coll.find({})\n",
    "plumbers = [business for business in cur\n",
    "            if 'Plumbing' in business['name']]\n",
    "len(plumbers)"
   ]
  },
  {
   "cell_type": "code",
   "execution_count": 40,
   "metadata": {},
   "outputs": [
    {
     "data": {
      "text/plain": [
       "{'_id': ObjectId('5cc1e6e1c67ae68d44223ae4'),\n",
       " 'business_id': 'HhyxOkGAM07SRYtlQ4wMFQ',\n",
       " 'name': 'Queen City Plumbing',\n",
       " 'address': '4209 Stuart Andrew Blvd, Ste F',\n",
       " 'city': 'Charlotte',\n",
       " 'state': 'NC',\n",
       " 'postal_code': '28217',\n",
       " 'latitude': 35.1900119,\n",
       " 'longitude': -80.8872232,\n",
       " 'stars': 4.0,\n",
       " 'review_count': 4,\n",
       " 'is_open': 1,\n",
       " 'attributes': {'BusinessAcceptsBitcoin': 'False',\n",
       "  'ByAppointmentOnly': 'True',\n",
       "  'BusinessAcceptsCreditCards': 'True'},\n",
       " 'categories': 'Plumbing, Shopping, Local Services, Home Services, Kitchen & Bath, Home & Garden, Water Heater Installation/Repair',\n",
       " 'hours': {'Monday': '7:0-23:0',\n",
       "  'Tuesday': '7:0-23:0',\n",
       "  'Wednesday': '7:0-23:0',\n",
       "  'Thursday': '7:0-23:0',\n",
       "  'Friday': '7:0-23:0',\n",
       "  'Saturday': '7:0-23:0',\n",
       "  'Sunday': '7:0-23:0'}}"
      ]
     },
     "execution_count": 40,
     "metadata": {},
     "output_type": "execute_result"
    }
   ],
   "source": [
    "plumbers[0]"
   ]
  },
  {
   "cell_type": "code",
   "execution_count": 52,
   "metadata": {},
   "outputs": [],
   "source": [
    "query = {'city': 'Charlotte',\n",
    "         'state': 'NC'}\n",
    "\n",
    "charlotte_cur = coll.find(query)"
   ]
  },
  {
   "cell_type": "code",
   "execution_count": 53,
   "metadata": {},
   "outputs": [
    {
     "data": {
      "text/plain": [
       "9507"
      ]
     },
     "execution_count": 53,
     "metadata": {},
     "output_type": "execute_result"
    }
   ],
   "source": [
    "coll.count_documents(query)"
   ]
  },
  {
   "cell_type": "code",
   "execution_count": 44,
   "metadata": {},
   "outputs": [
    {
     "data": {
      "text/plain": [
       "{'_id': ObjectId('5cc1e6e1c67ae68d44223b01'),\n",
       " 'business_id': 'irft4YkdNsww4DNf_Aftew',\n",
       " 'name': 'So Cool Frozen Yogurt',\n",
       " 'address': '9020 B Albemarle Rd',\n",
       " 'city': 'Charlotte',\n",
       " 'state': 'NC',\n",
       " 'postal_code': '28227',\n",
       " 'latitude': 35.21051,\n",
       " 'longitude': -80.690262,\n",
       " 'stars': 4.5,\n",
       " 'review_count': 6,\n",
       " 'is_open': 0,\n",
       " 'attributes': {'BusinessAcceptsCreditCards': 'True',\n",
       "  'RestaurantsPriceRange2': '2',\n",
       "  'RestaurantsTakeOut': 'True',\n",
       "  'BikeParking': 'False',\n",
       "  'WiFi': \"'free'\",\n",
       "  'Caters': 'False',\n",
       "  'BusinessParking': \"{'garage': False, 'street': False, 'validated': False, 'lot': False, 'valet': False}\"},\n",
       " 'categories': 'Juice Bars & Smoothies, Food, Ice Cream & Frozen Yogurt',\n",
       " 'hours': {'Monday': '11:30-20:30',\n",
       "  'Tuesday': '11:30-20:30',\n",
       "  'Thursday': '11:30-20:30',\n",
       "  'Friday': '11:30-21:0',\n",
       "  'Saturday': '11:30-21:0',\n",
       "  'Sunday': '11:30-21:0'}}"
      ]
     },
     "execution_count": 44,
     "metadata": {},
     "output_type": "execute_result"
    }
   ],
   "source": [
    "next(charlotte_cur)"
   ]
  },
  {
   "cell_type": "code",
   "execution_count": 11,
   "metadata": {},
   "outputs": [],
   "source": [
    "snarfblat_coll = db['snarfblat']"
   ]
  },
  {
   "cell_type": "code",
   "execution_count": 14,
   "metadata": {},
   "outputs": [
    {
     "data": {
      "text/plain": [
       "<pymongo.results.InsertOneResult at 0x1364c2d48>"
      ]
     },
     "execution_count": 14,
     "metadata": {},
     "output_type": "execute_result"
    }
   ],
   "source": [
    "snarfblat = {'inscription': \"ceci n'est pas une pipe\"}\n",
    "snarfblat_coll.insert_one(snarfblat)"
   ]
  },
  {
   "cell_type": "code",
   "execution_count": 19,
   "metadata": {},
   "outputs": [],
   "source": [
    "cur = snarfblat_coll.find()"
   ]
  },
  {
   "cell_type": "code",
   "execution_count": 21,
   "metadata": {},
   "outputs": [],
   "source": [
    "for item in cur:\n",
    "    print(item['inscription'])"
   ]
  },
  {
   "cell_type": "code",
   "execution_count": 54,
   "metadata": {},
   "outputs": [
    {
     "data": {
      "text/plain": [
       "<pymongo.results.DeleteResult at 0x136045188>"
      ]
     },
     "execution_count": 54,
     "metadata": {},
     "output_type": "execute_result"
    }
   ],
   "source": [
    "coll.delete_many({})"
   ]
  },
  {
   "cell_type": "code",
   "execution_count": 55,
   "metadata": {},
   "outputs": [
    {
     "data": {
      "text/plain": [
       "0"
      ]
     },
     "execution_count": 55,
     "metadata": {},
     "output_type": "execute_result"
    }
   ],
   "source": [
    "coll.count_documents({})"
   ]
  },
  {
   "cell_type": "code",
   "execution_count": null,
   "metadata": {},
   "outputs": [],
   "source": []
  }
 ],
 "metadata": {
  "kernelspec": {
   "display_name": "Python 3",
   "language": "python",
   "name": "python3"
  },
  "language_info": {
   "codemirror_mode": {
    "name": "ipython",
    "version": 3
   },
   "file_extension": ".py",
   "mimetype": "text/x-python",
   "name": "python",
   "nbconvert_exporter": "python",
   "pygments_lexer": "ipython3",
   "version": "3.6.6"
  }
 },
 "nbformat": 4,
 "nbformat_minor": 2
}
